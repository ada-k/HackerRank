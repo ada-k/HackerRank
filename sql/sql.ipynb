{
 "cells": [
  {
   "cell_type": "markdown",
   "id": "f4fe4d00",
   "metadata": {},
   "source": [
    "## EASY"
   ]
  },
  {
   "cell_type": "code",
   "execution_count": null,
   "id": "31347a81",
   "metadata": {},
   "outputs": [],
   "source": [
    "SELECT * FROM CITY\n",
    "WHERE COUNTRYCODE = \"USA\" AND POPULATION > 100000;"
   ]
  },
  {
   "cell_type": "code",
   "execution_count": null,
   "id": "3dd96ded",
   "metadata": {},
   "outputs": [],
   "source": [
    "SELECT NAME FROM CITY\n",
    "WHERE COUNTRYCODE =\"USA\" AND POPULATION > 120000;"
   ]
  },
  {
   "cell_type": "code",
   "execution_count": null,
   "id": "36be7211",
   "metadata": {},
   "outputs": [],
   "source": [
    "SELECT * FROM CITY\n",
    "WHERE ID =1661;"
   ]
  },
  {
   "cell_type": "code",
   "execution_count": null,
   "id": "f910672a",
   "metadata": {},
   "outputs": [],
   "source": [
    "SELECT * FROM CITY\n",
    "WHERE COUNTRYCODE = \"JPN\";"
   ]
  },
  {
   "cell_type": "code",
   "execution_count": null,
   "id": "514c4222",
   "metadata": {},
   "outputs": [],
   "source": [
    "SELECT NAME FROM CITY\n",
    "WHERE COUNTRYCODE = \"JPN\";"
   ]
  },
  {
   "cell_type": "code",
   "execution_count": null,
   "id": "62b3b31c",
   "metadata": {},
   "outputs": [],
   "source": [
    "SELECT CITY, STATE FROM STATION;"
   ]
  },
  {
   "cell_type": "code",
   "execution_count": null,
   "id": "c423fbb0",
   "metadata": {},
   "outputs": [],
   "source": [
    "SELECT DISTINCT CITY FROM STATION\n",
    "WHERE MOD(ID, 2) = 0; "
   ]
  },
  {
   "cell_type": "code",
   "execution_count": null,
   "id": "be6f7e3d",
   "metadata": {},
   "outputs": [],
   "source": [
    "# Find the difference between the total number of CITY entries\n",
    "# in the table and the number of distinct CITY entries in the table.\n",
    "\n",
    "SELECT (COUNT(CITY) - COUNT(DISTINCT(CITY))) FROM STATION;"
   ]
  },
  {
   "cell_type": "code",
   "execution_count": null,
   "id": "c6998cf1",
   "metadata": {},
   "outputs": [],
   "source": [
    "# Query the two cities in STATION with the shortest and longest CITY names, \n",
    "# as well as their respective lengths (i.e.: number of characters in the name). \n",
    "# If there is more than one smallest or largest city, \n",
    "# choose the one that comes first when ordered alphabetically.\n",
    "\n",
    "\n",
    "select city, length(city) from station\n",
    "order by length(city) asc, city asc limit 1;\n",
    "\n",
    "select city, length(city) from station\n",
    "order by length(city) desc, city desc limit 1;"
   ]
  },
  {
   "cell_type": "code",
   "execution_count": null,
   "id": "d59728c6",
   "metadata": {},
   "outputs": [],
   "source": [
    "# Query the list of CITY names starting with vowels (i.e., a, e, i, o, or u) from STATION. \n",
    "# Your result cannot contain duplicates.\n",
    "\n",
    "SELECT DISTINCT(CITY) FROM STATION \n",
    "WHERE lower(SUBSTR(city,1,1)) IN ('a','e','i','o','u');\n",
    "\n",
    "# last name this time\n",
    "select distinct CITY from STATION \n",
    "where right(city,1) in ('a', 'e', 'i', 'o', 'u');\n",
    "\n",
    "# BOTH 1st abd last are vowels\n",
    "select DISTINCT CITY FROM STATION \n",
    "WHERE lower(SUBSTR(city,1,1)) IN ('a','e','i','o','u') AND right(city,1) in ('a', 'e', 'i', 'o', 'u');\n",
    "\n"
   ]
  },
  {
   "cell_type": "code",
   "execution_count": null,
   "id": "fd52f322",
   "metadata": {},
   "outputs": [],
   "source": []
  },
  {
   "cell_type": "code",
   "execution_count": null,
   "id": "6d19bad0",
   "metadata": {},
   "outputs": [],
   "source": []
  },
  {
   "cell_type": "code",
   "execution_count": null,
   "id": "6838cb50",
   "metadata": {},
   "outputs": [],
   "source": []
  },
  {
   "cell_type": "code",
   "execution_count": null,
   "id": "4703c7a3",
   "metadata": {},
   "outputs": [],
   "source": []
  },
  {
   "cell_type": "code",
   "execution_count": null,
   "id": "ed5355a6",
   "metadata": {},
   "outputs": [],
   "source": []
  },
  {
   "cell_type": "code",
   "execution_count": null,
   "id": "143e2038",
   "metadata": {},
   "outputs": [],
   "source": []
  },
  {
   "cell_type": "code",
   "execution_count": null,
   "id": "0c2d66ee",
   "metadata": {},
   "outputs": [],
   "source": []
  },
  {
   "cell_type": "code",
   "execution_count": null,
   "id": "b031db56",
   "metadata": {},
   "outputs": [],
   "source": []
  },
  {
   "cell_type": "code",
   "execution_count": null,
   "id": "755419a5",
   "metadata": {},
   "outputs": [],
   "source": []
  },
  {
   "cell_type": "markdown",
   "id": "695aed25",
   "metadata": {},
   "source": [
    "## medium"
   ]
  },
  {
   "cell_type": "code",
   "execution_count": null,
   "id": "59026c25",
   "metadata": {},
   "outputs": [],
   "source": []
  },
  {
   "cell_type": "code",
   "execution_count": null,
   "id": "68fcd67d",
   "metadata": {},
   "outputs": [],
   "source": []
  }
 ],
 "metadata": {
  "kernelspec": {
   "display_name": "Python [conda env:uvo] *",
   "language": "python",
   "name": "conda-env-uvo-py"
  },
  "language_info": {
   "codemirror_mode": {
    "name": "ipython",
    "version": 3
   },
   "file_extension": ".py",
   "mimetype": "text/x-python",
   "name": "python",
   "nbconvert_exporter": "python",
   "pygments_lexer": "ipython3",
   "version": "3.9.7"
  },
  "toc": {
   "base_numbering": 1,
   "nav_menu": {},
   "number_sections": true,
   "sideBar": true,
   "skip_h1_title": false,
   "title_cell": "Table of Contents",
   "title_sidebar": "Contents",
   "toc_cell": false,
   "toc_position": {},
   "toc_section_display": true,
   "toc_window_display": false
  }
 },
 "nbformat": 4,
 "nbformat_minor": 5
}
