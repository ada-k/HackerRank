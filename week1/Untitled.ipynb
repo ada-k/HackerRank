{
 "cells": [
  {
   "cell_type": "markdown",
   "id": "e6858718",
   "metadata": {
    "heading_collapsed": true
   },
   "source": [
    "# Day1"
   ]
  },
  {
   "cell_type": "markdown",
   "id": "d754ad9e",
   "metadata": {
    "heading_collapsed": true,
    "hidden": true
   },
   "source": [
    "## plusMinus"
   ]
  },
  {
   "cell_type": "code",
   "execution_count": null,
   "id": "16da0cb7",
   "metadata": {
    "hidden": true
   },
   "outputs": [],
   "source": [
    "#!/bin/python3\n",
    "\n",
    "import math\n",
    "import os\n",
    "import random\n",
    "import re\n",
    "import sys\n",
    "\n",
    "#\n",
    "# Complete the 'plusMinus' function below.\n",
    "#\n",
    "# The function accepts INTEGER_ARRAY arr as parameter.\n",
    "#\n",
    "\n",
    "def plusMinus(arr):\n",
    "    # Write your code here\n",
    "    pos = [i for i in arr if i > 0]\n",
    "    neg = [i for i in arr if i < 0]\n",
    "    zeros = [i for i in arr if i == 0]\n",
    "    \n",
    "    print(round(len(pos)/len(arr), 6))\n",
    "    print(round(len(neg)/len(arr), 6))\n",
    "    print(round(len(zeros)/len(arr), 6))\n",
    "    \n",
    "\n",
    "    \n",
    "\n",
    "        \n",
    "\n",
    "if __name__ == '__main__':\n",
    "    n = int(input().strip())\n",
    "\n",
    "    arr = list(map(int, input().rstrip().split()))\n",
    "\n",
    "    plusMinus(arr)\n"
   ]
  },
  {
   "cell_type": "markdown",
   "id": "761f8344",
   "metadata": {
    "heading_collapsed": true,
    "hidden": true
   },
   "source": [
    "## miniMaxSum"
   ]
  },
  {
   "cell_type": "code",
   "execution_count": null,
   "id": "ecd15d29",
   "metadata": {
    "hidden": true
   },
   "outputs": [],
   "source": [
    "#!/bin/python3\n",
    "\n",
    "import math\n",
    "import os\n",
    "import random\n",
    "import re\n",
    "import sys\n",
    "\n",
    "#\n",
    "# Complete the 'miniMaxSum' function below.\n",
    "#\n",
    "# The function accepts INTEGER_ARRAY arr as parameter.\n",
    "#\n",
    "\n",
    "def miniMaxSum(arr):\n",
    "    # Write your code here\n",
    "    print(sum(sorted(arr)[:4]), sum(sorted(arr)[1:]))\n",
    "    # print(sorted(arr)[:4])\n",
    "    \n",
    "    \n",
    "if __name__ == '__main__':\n",
    "\n",
    "    arr = list(map(int, input().rstrip().split()))\n",
    "\n",
    "    miniMaxSum(arr)\n"
   ]
  },
  {
   "cell_type": "markdown",
   "id": "4cd3c765",
   "metadata": {
    "heading_collapsed": true,
    "hidden": true
   },
   "source": [
    "## timeConversion"
   ]
  },
  {
   "cell_type": "code",
   "execution_count": null,
   "id": "65f84d93",
   "metadata": {
    "hidden": true
   },
   "outputs": [],
   "source": [
    "#!/bin/python3\n",
    "\n",
    "import math\n",
    "import os\n",
    "import random\n",
    "import re\n",
    "import sys\n",
    "import datetime\n",
    "from datetime import timedelta\n",
    "\n",
    "#\n",
    "# Complete the 'timeConversion' function below.\n",
    "#\n",
    "# The function is expected to return a STRING.\n",
    "# The function accepts STRING s as parameter.\n",
    "#\n",
    "\n",
    "def timeConversion(s):\n",
    "    # Write your code here\n",
    "    if \"AM\" in s:\n",
    "        if s[:2] == \"12\": \n",
    "            string = (datetime.datetime.strptime(s[:-2], '%H:%M:%S') - timedelta(hours=12)).time()\n",
    "            \n",
    "        else:\n",
    "            string = s[:-2]\n",
    "    \n",
    "    elif \"PM\" in s:\n",
    "        if s[:2] == \"12\": \n",
    "            string = s[:-2]\n",
    "            \n",
    "        else:\n",
    "            string = (datetime.datetime.strptime(s[:-2], '%H:%M:%S') + timedelta(hours=12)).time()\n",
    "        \n",
    "    return str(string)\n",
    "\n",
    "    \n",
    "if __name__ == '__main__':\n",
    "    fptr = open(os.environ['OUTPUT_PATH'], 'w')\n",
    "\n",
    "    s = input()\n",
    "\n",
    "    result = timeConversion(s)\n",
    "\n",
    "    fptr.write(result + '\\n')\n",
    "\n",
    "    fptr.close()\n"
   ]
  },
  {
   "cell_type": "markdown",
   "id": "0a899225",
   "metadata": {
    "heading_collapsed": true,
    "hidden": true
   },
   "source": [
    "## findMedian"
   ]
  },
  {
   "cell_type": "code",
   "execution_count": null,
   "id": "df83e271",
   "metadata": {
    "hidden": true
   },
   "outputs": [],
   "source": [
    "#\n",
    "# Complete the 'findMedian' function below.\n",
    "#\n",
    "# The function is expected to return an INTEGER.\n",
    "# The function accepts INTEGER_ARRAY arr as parameter.\n",
    "#\n",
    "def findMedian(arr):\n",
    "# Write your code here\n",
    "# sorted = sorted(arr)\n",
    "return(sorted(arr)[int(((len(arr)/2) + 0.5) - 1)])"
   ]
  },
  {
   "cell_type": "markdown",
   "id": "40995ade",
   "metadata": {},
   "source": [
    "# Day2"
   ]
  },
  {
   "cell_type": "markdown",
   "id": "fc2bf343",
   "metadata": {
    "heading_collapsed": true
   },
   "source": [
    "## Lonely Integer"
   ]
  },
  {
   "cell_type": "code",
   "execution_count": 15,
   "id": "35a1a1d2",
   "metadata": {
    "hidden": true
   },
   "outputs": [],
   "source": [
    "#!/bin/python3\n",
    "\n",
    "import math\n",
    "import os\n",
    "import random\n",
    "import re\n",
    "import sys\n",
    "from collections import Counter\n",
    "\n",
    "#\n",
    "# Complete the 'lonelyinteger' function below.\n",
    "#\n",
    "# The function is expected to return an INTEGER.\n",
    "# The function accepts INTEGER_ARRAY a as parameter.\n",
    "#\n",
    "\n",
    "def lonelyinteger(a):\n",
    "    # Write your code here\n",
    "    for i,j in zip(Counter(a).values(), Counter(a).keys()):\n",
    "        if i != 2:\n",
    "            loner = j\n",
    "    return j\n",
    "\n",
    "if __name__ == '__main__':\n",
    "    fptr = open(os.environ['OUTPUT_PATH'], 'w')\n",
    "\n",
    "    n = int(input().strip())\n",
    "\n",
    "    a = list(map(int, input().rstrip().split()))\n",
    "\n",
    "    result = lonelyinteger(a)\n",
    "\n",
    "    fptr.write(str(result) + '\\n')\n",
    "\n",
    "    fptr.close()\n"
   ]
  },
  {
   "cell_type": "markdown",
   "id": "96078af0",
   "metadata": {},
   "source": [
    "## diagonalDifference"
   ]
  },
  {
   "cell_type": "code",
   "execution_count": null,
   "id": "3c987649",
   "metadata": {},
   "outputs": [],
   "source": [
    "#!/bin/python3\n",
    "\n",
    "import math\n",
    "import os\n",
    "import random\n",
    "import re\n",
    "import sys\n",
    "\n",
    "#\n",
    "# Complete the 'diagonalDifference' function below.\n",
    "#\n",
    "# The function is expected to return an INTEGER.\n",
    "# The function accepts 2D_INTEGER_ARRAY arr as parameter.\n",
    "#\n",
    "\n",
    "def diagonalDifference(arr):\n",
    "    # Write your code here\n",
    "    n = len(arr[0])\n",
    "    # diag1 = [arr[i][i] for i in range(n)]\n",
    "    # diag2 = [arr[n-1-i][i] for i in range(n-1, -1, -1)]\n",
    "    \n",
    "    return abs(sum([arr[i][i] for i in range(n)]) - sum([arr[n-1-i][i] for i in range(n-1, -1, -1)]))\n",
    "\n",
    "if __name__ == '__main__':\n",
    "    fptr = open(os.environ['OUTPUT_PATH'], 'w')\n",
    "\n",
    "    n = int(input().strip())\n",
    "\n",
    "    arr = []\n",
    "\n",
    "    for _ in range(n):\n",
    "        arr.append(list(map(int, input().rstrip().split())))\n",
    "\n",
    "    result = diagonalDifference(arr)\n",
    "\n",
    "    fptr.write(str(result) + '\\n')\n",
    "\n",
    "    fptr.close()\n"
   ]
  },
  {
   "cell_type": "markdown",
   "id": "5fe6885a",
   "metadata": {},
   "source": [
    "## countingSort"
   ]
  },
  {
   "cell_type": "code",
   "execution_count": null,
   "id": "e7f1dbfc",
   "metadata": {},
   "outputs": [],
   "source": []
  },
  {
   "cell_type": "code",
   "execution_count": null,
   "id": "65877610",
   "metadata": {},
   "outputs": [],
   "source": []
  },
  {
   "cell_type": "code",
   "execution_count": null,
   "id": "a0d40408",
   "metadata": {},
   "outputs": [],
   "source": []
  },
  {
   "cell_type": "code",
   "execution_count": null,
   "id": "24af0a99",
   "metadata": {},
   "outputs": [],
   "source": []
  },
  {
   "cell_type": "code",
   "execution_count": null,
   "id": "12f90412",
   "metadata": {},
   "outputs": [],
   "source": []
  },
  {
   "cell_type": "code",
   "execution_count": null,
   "id": "761410e1",
   "metadata": {},
   "outputs": [],
   "source": []
  },
  {
   "cell_type": "code",
   "execution_count": null,
   "id": "79a430e5",
   "metadata": {},
   "outputs": [],
   "source": []
  }
 ],
 "metadata": {
  "kernelspec": {
   "display_name": "Python 3",
   "language": "python",
   "name": "python3"
  },
  "language_info": {
   "codemirror_mode": {
    "name": "ipython",
    "version": 3
   },
   "file_extension": ".py",
   "mimetype": "text/x-python",
   "name": "python",
   "nbconvert_exporter": "python",
   "pygments_lexer": "ipython3",
   "version": "3.8.8"
  },
  "toc": {
   "base_numbering": 1,
   "nav_menu": {},
   "number_sections": true,
   "sideBar": true,
   "skip_h1_title": false,
   "title_cell": "Table of Contents",
   "title_sidebar": "Contents",
   "toc_cell": false,
   "toc_position": {},
   "toc_section_display": true,
   "toc_window_display": true
  }
 },
 "nbformat": 4,
 "nbformat_minor": 5
}
