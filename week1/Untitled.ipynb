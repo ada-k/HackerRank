{
 "cells": [
  {
   "cell_type": "markdown",
   "id": "e6858718",
   "metadata": {},
   "source": [
    "# Day1"
   ]
  },
  {
   "cell_type": "markdown",
   "id": "d754ad9e",
   "metadata": {
    "heading_collapsed": true
   },
   "source": [
    "## plusMinus"
   ]
  },
  {
   "cell_type": "code",
   "execution_count": null,
   "id": "16da0cb7",
   "metadata": {
    "hidden": true
   },
   "outputs": [],
   "source": [
    "#!/bin/python3\n",
    "\n",
    "import math\n",
    "import os\n",
    "import random\n",
    "import re\n",
    "import sys\n",
    "\n",
    "#\n",
    "# Complete the 'plusMinus' function below.\n",
    "#\n",
    "# The function accepts INTEGER_ARRAY arr as parameter.\n",
    "#\n",
    "\n",
    "def plusMinus(arr):\n",
    "    # Write your code here\n",
    "    pos = [i for i in arr if i > 0]\n",
    "    neg = [i for i in arr if i < 0]\n",
    "    zeros = [i for i in arr if i == 0]\n",
    "    \n",
    "    print(round(len(pos)/len(arr), 6))\n",
    "    print(round(len(neg)/len(arr), 6))\n",
    "    print(round(len(zeros)/len(arr), 6))\n",
    "    \n",
    "\n",
    "    \n",
    "\n",
    "        \n",
    "\n",
    "if __name__ == '__main__':\n",
    "    n = int(input().strip())\n",
    "\n",
    "    arr = list(map(int, input().rstrip().split()))\n",
    "\n",
    "    plusMinus(arr)\n"
   ]
  },
  {
   "cell_type": "markdown",
   "id": "761f8344",
   "metadata": {
    "heading_collapsed": true
   },
   "source": [
    "## miniMaxSum"
   ]
  },
  {
   "cell_type": "code",
   "execution_count": null,
   "id": "ecd15d29",
   "metadata": {
    "hidden": true
   },
   "outputs": [],
   "source": [
    "#!/bin/python3\n",
    "\n",
    "import math\n",
    "import os\n",
    "import random\n",
    "import re\n",
    "import sys\n",
    "\n",
    "#\n",
    "# Complete the 'miniMaxSum' function below.\n",
    "#\n",
    "# The function accepts INTEGER_ARRAY arr as parameter.\n",
    "#\n",
    "\n",
    "def miniMaxSum(arr):\n",
    "    # Write your code here\n",
    "    print(sum(sorted(arr)[:4]), sum(sorted(arr)[1:]))\n",
    "    # print(sorted(arr)[:4])\n",
    "    \n",
    "    \n",
    "if __name__ == '__main__':\n",
    "\n",
    "    arr = list(map(int, input().rstrip().split()))\n",
    "\n",
    "    miniMaxSum(arr)\n"
   ]
  },
  {
   "cell_type": "markdown",
   "id": "4cd3c765",
   "metadata": {
    "heading_collapsed": true
   },
   "source": [
    "## timeConversion"
   ]
  },
  {
   "cell_type": "code",
   "execution_count": null,
   "id": "65f84d93",
   "metadata": {
    "hidden": true
   },
   "outputs": [],
   "source": [
    "#!/bin/python3\n",
    "\n",
    "import math\n",
    "import os\n",
    "import random\n",
    "import re\n",
    "import sys\n",
    "import datetime\n",
    "from datetime import timedelta\n",
    "\n",
    "#\n",
    "# Complete the 'timeConversion' function below.\n",
    "#\n",
    "# The function is expected to return a STRING.\n",
    "# The function accepts STRING s as parameter.\n",
    "#\n",
    "\n",
    "def timeConversion(s):\n",
    "    # Write your code here\n",
    "    if \"AM\" in s:\n",
    "        if s[:2] == \"12\": \n",
    "            string = (datetime.datetime.strptime(s[:-2], '%H:%M:%S') - timedelta(hours=12)).time()\n",
    "            \n",
    "        else:\n",
    "            string = s[:-2]\n",
    "    \n",
    "    elif \"PM\" in s:\n",
    "        if s[:2] == \"12\": \n",
    "            string = s[:-2]\n",
    "            \n",
    "        else:\n",
    "            string = (datetime.datetime.strptime(s[:-2], '%H:%M:%S') + timedelta(hours=12)).time()\n",
    "        \n",
    "    return str(string)\n",
    "\n",
    "    \n",
    "if __name__ == '__main__':\n",
    "    fptr = open(os.environ['OUTPUT_PATH'], 'w')\n",
    "\n",
    "    s = input()\n",
    "\n",
    "    result = timeConversion(s)\n",
    "\n",
    "    fptr.write(result + '\\n')\n",
    "\n",
    "    fptr.close()\n"
   ]
  },
  {
   "cell_type": "markdown",
   "id": "0a899225",
   "metadata": {
    "heading_collapsed": true
   },
   "source": [
    "## mock: findMedian"
   ]
  },
  {
   "cell_type": "code",
   "execution_count": null,
   "id": "df83e271",
   "metadata": {
    "hidden": true
   },
   "outputs": [],
   "source": [
    "#\n",
    "# Complete the 'findMedian' function below.\n",
    "#\n",
    "# The function is expected to return an INTEGER.\n",
    "# The function accepts INTEGER_ARRAY arr as parameter.\n",
    "#\n",
    "def findMedian(arr):\n",
    "# Write your code here\n",
    "# sorted = sorted(arr)\n",
    "return(sorted(arr)[int(((len(arr)/2) + 0.5) - 1)])"
   ]
  },
  {
   "cell_type": "markdown",
   "id": "40995ade",
   "metadata": {},
   "source": [
    "# Day2"
   ]
  },
  {
   "cell_type": "markdown",
   "id": "fc2bf343",
   "metadata": {
    "heading_collapsed": true
   },
   "source": [
    "## Lonely Integer"
   ]
  },
  {
   "cell_type": "code",
   "execution_count": 15,
   "id": "35a1a1d2",
   "metadata": {
    "hidden": true
   },
   "outputs": [],
   "source": [
    "#!/bin/python3\n",
    "\n",
    "import math\n",
    "import os\n",
    "import random\n",
    "import re\n",
    "import sys\n",
    "from collections import Counter\n",
    "\n",
    "#\n",
    "# Complete the 'lonelyinteger' function below.\n",
    "#\n",
    "# The function is expected to return an INTEGER.\n",
    "# The function accepts INTEGER_ARRAY a as parameter.\n",
    "#\n",
    "\n",
    "def lonelyinteger(a):\n",
    "    # Write your code here\n",
    "    for i,j in zip(Counter(a).values(), Counter(a).keys()):\n",
    "        if i != 2:\n",
    "            loner = j\n",
    "    return j\n",
    "\n",
    "if __name__ == '__main__':\n",
    "    fptr = open(os.environ['OUTPUT_PATH'], 'w')\n",
    "\n",
    "    n = int(input().strip())\n",
    "\n",
    "    a = list(map(int, input().rstrip().split()))\n",
    "\n",
    "    result = lonelyinteger(a)\n",
    "\n",
    "    fptr.write(str(result) + '\\n')\n",
    "\n",
    "    fptr.close()\n"
   ]
  },
  {
   "cell_type": "markdown",
   "id": "96078af0",
   "metadata": {
    "heading_collapsed": true
   },
   "source": [
    "## diagonalDifference"
   ]
  },
  {
   "cell_type": "code",
   "execution_count": null,
   "id": "3c987649",
   "metadata": {
    "hidden": true
   },
   "outputs": [],
   "source": [
    "#!/bin/python3\n",
    "\n",
    "import math\n",
    "import os\n",
    "import random\n",
    "import re\n",
    "import sys\n",
    "\n",
    "#\n",
    "# Complete the 'diagonalDifference' function below.\n",
    "#\n",
    "# The function is expected to return an INTEGER.\n",
    "# The function accepts 2D_INTEGER_ARRAY arr as parameter.\n",
    "#\n",
    "\n",
    "def diagonalDifference(arr):\n",
    "    # Write your code here\n",
    "    n = len(arr[0])\n",
    "    # diag1 = [arr[i][i] for i in range(n)]\n",
    "    # diag2 = [arr[n-1-i][i] for i in range(n-1, -1, -1)]\n",
    "    \n",
    "    return abs(sum([arr[i][i] for i in range(n)]) - sum([arr[n-1-i][i] for i in range(n-1, -1, -1)]))\n",
    "\n",
    "if __name__ == '__main__':\n",
    "    fptr = open(os.environ['OUTPUT_PATH'], 'w')\n",
    "\n",
    "    n = int(input().strip())\n",
    "\n",
    "    arr = []\n",
    "\n",
    "    for _ in range(n):\n",
    "        arr.append(list(map(int, input().rstrip().split())))\n",
    "\n",
    "    result = diagonalDifference(arr)\n",
    "\n",
    "    fptr.write(str(result) + '\\n')\n",
    "\n",
    "    fptr.close()\n"
   ]
  },
  {
   "cell_type": "markdown",
   "id": "5fe6885a",
   "metadata": {
    "heading_collapsed": true
   },
   "source": [
    "## countingSort"
   ]
  },
  {
   "cell_type": "code",
   "execution_count": 3,
   "id": "e7f1dbfc",
   "metadata": {
    "hidden": true
   },
   "outputs": [],
   "source": [
    "#!/bin/python3\n",
    "\n",
    "import math\n",
    "import os\n",
    "import random\n",
    "import re\n",
    "import sys\n",
    "\n",
    "#\n",
    "# Complete the 'countingSort' function below.\n",
    "#\n",
    "# The function is expected to return an INTEGER_ARRAY.\n",
    "# The function accepts INTEGER_ARRAY arr as parameter.\n",
    "#\n",
    "\n",
    "def countingSort(arr):\n",
    "    # Write your code here\n",
    "    n = 100\n",
    "    res = [0] * n\n",
    "    for i in arr:\n",
    "        res[i] += 1\n",
    "        \n",
    "    return res\n",
    "\n",
    "if __name__ == '__main__':\n",
    "    fptr = open(os.environ['OUTPUT_PATH'], 'w')\n",
    "\n",
    "    n = int(input().strip())\n",
    "\n",
    "    arr = list(map(int, input().rstrip().split()))\n",
    "\n",
    "    result = countingSort(arr)\n",
    "\n",
    "    fptr.write(' '.join(map(str, result)))\n",
    "    fptr.write('\\n')\n",
    "\n",
    "    fptr.close()\n"
   ]
  },
  {
   "cell_type": "markdown",
   "id": "8c22940d",
   "metadata": {
    "heading_collapsed": true
   },
   "source": [
    "## mock: flippingMatrix"
   ]
  },
  {
   "cell_type": "code",
   "execution_count": null,
   "id": "a0d40408",
   "metadata": {
    "hidden": true
   },
   "outputs": [],
   "source": [
    "#!/bin/python3\n",
    "\n",
    "import math\n",
    "import os\n",
    "import random\n",
    "import re\n",
    "import sys\n",
    "\n",
    "\n",
    "\n",
    "#\n",
    "# Complete the 'flippingMatrix' function below.\n",
    "#\n",
    "# The function is expected to return an INTEGER.\n",
    "# The function accepts 2D_INTEGER_ARRAY matrix as parameter.\n",
    "#\n",
    "\n",
    "def flippingMatrix(matrix):\n",
    "    # Write your code here\n",
    "    \n",
    "    # q=no of matrices\n",
    "    for i in range(q):\n",
    "#         a = [[0 for j in range(2*n) for x in range(2*n)]]\n",
    "        \n",
    "        for w in range(2*n):\n",
    "            pass\n",
    "        \n",
    "        v = 0\n",
    "        for i in range(n):\n",
    "            for j in range(n):\n",
    "                l = []\n",
    "                l.append(matrix[i][j])\n",
    "                l.append(matrix[2*n-1-i][j])\n",
    "                l.append(matrix[i][2*n-1-j])\n",
    "                l.append(matrix[2*n-1-i][2*n-1-j])\n",
    "                \n",
    "                maxv = max(l)\n",
    "\n",
    "                v += maxv\n",
    "                \n",
    "        return v\n",
    "\n",
    "if __name__ == '__main__':\n",
    "    fptr = open(os.environ['OUTPUT_PATH'], 'w')\n",
    "\n",
    "    q = int(input().strip())\n",
    "\n",
    "    for q_itr in range(q):\n",
    "        n = int(input().strip())\n",
    "\n",
    "        matrix = []\n",
    "\n",
    "        for _ in range(2 * n):\n",
    "            matrix.append(list(map(int, input().rstrip().split())))\n",
    "\n",
    "        result = flippingMatrix(matrix)\n",
    "\n",
    "        fptr.write(str(result) + '\\n')\n",
    "\n",
    "    fptr.close()\n"
   ]
  },
  {
   "cell_type": "code",
   "execution_count": null,
   "id": "9c433227",
   "metadata": {
    "hidden": true
   },
   "outputs": [],
   "source": []
  },
  {
   "cell_type": "markdown",
   "id": "f328e1d5",
   "metadata": {},
   "source": [
    "# Day3"
   ]
  },
  {
   "cell_type": "markdown",
   "id": "9240b477",
   "metadata": {
    "heading_collapsed": true
   },
   "source": [
    "## Zig Zag Sequence"
   ]
  },
  {
   "cell_type": "code",
   "execution_count": null,
   "id": "5065a253",
   "metadata": {
    "hidden": true
   },
   "outputs": [],
   "source": [
    "def findZigZagSequence(a, n):\n",
    "    a.sort()\n",
    "    mid = int((n + 1)/2) - 1\n",
    "    a[mid], a[n-1] = a[n-1], a[mid]\n",
    "\n",
    "    st = mid + 1\n",
    "    ed = n - 2\n",
    "    while(st <= ed):\n",
    "        a[st], a[ed] = a[ed], a[st]\n",
    "        st = st + 1\n",
    "        ed = ed - 1\n",
    "\n",
    "    for i in range (n):\n",
    "        if i == n-1:\n",
    "            print(a[i])\n",
    "        else:\n",
    "            print(a[i], end = ' ')\n",
    "    return\n",
    "\n",
    "test_cases = int(input())\n",
    "for cs in range (test_cases):\n",
    "    n = int(input())\n",
    "    a = list(map(int, input().split()))\n",
    "    findZigZagSequence(a, n)"
   ]
  },
  {
   "cell_type": "markdown",
   "id": "6eeaae80",
   "metadata": {
    "heading_collapsed": true
   },
   "source": [
    "## Tower Breakers"
   ]
  },
  {
   "cell_type": "code",
   "execution_count": null,
   "id": "12f90412",
   "metadata": {
    "hidden": true
   },
   "outputs": [],
   "source": [
    "#!/bin/python3\n",
    "\n",
    "import math\n",
    "import os\n",
    "import random\n",
    "import re\n",
    "import sys\n",
    "\n",
    "#\n",
    "# Complete the 'towerBreakers' function below.\n",
    "#\n",
    "# The function is expected to return an INTEGER.\n",
    "# The function accepts following parameters:\n",
    "#  1. INTEGER n\n",
    "#  2. INTEGER m\n",
    "#\n",
    "\n",
    "def towerBreakers(n, m):\n",
    "    # Write your code here\n",
    "    if m == 1:\n",
    "        return 2\n",
    "    else:\n",
    "        return 1 if n%2 != 0 else 2\n",
    "\n",
    "if __name__ == '__main__':\n",
    "    fptr = open(os.environ['OUTPUT_PATH'], 'w')\n",
    "\n",
    "    t = int(input().strip())\n",
    "\n",
    "    for t_itr in range(t):\n",
    "        first_multiple_input = input().rstrip().split()\n",
    "\n",
    "        n = int(first_multiple_input[0])\n",
    "\n",
    "        m = int(first_multiple_input[1])\n",
    "\n",
    "        result = towerBreakers(n, m)\n",
    "\n",
    "        fptr.write(str(result) + '\\n')\n",
    "\n",
    "    fptr.close()\n"
   ]
  },
  {
   "cell_type": "markdown",
   "id": "fa48d224",
   "metadata": {
    "heading_collapsed": true
   },
   "source": [
    "## Caesar Cipher"
   ]
  },
  {
   "cell_type": "code",
   "execution_count": 55,
   "id": "8ebde541",
   "metadata": {
    "hidden": true
   },
   "outputs": [],
   "source": [
    "#!/bin/python3\n",
    "\n",
    "import math\n",
    "import os\n",
    "import random\n",
    "import re\n",
    "import sys\n",
    "from string import ascii_letters, digits\n",
    "\n",
    "#\n",
    "# Complete the 'caesarCipher' function below.\n",
    "#\n",
    "# The function is expected to return a STRING.\n",
    "# The function accepts following parameters:\n",
    "#  1. STRING s\n",
    "#  2. INTEGER k\n",
    "#\n",
    "\n",
    "\n",
    "def caesarCipher(s, k):\n",
    "    result = \"\"\n",
    " \n",
    "    # traverse text\n",
    "    for i in range(len(s)):\n",
    "        char = s[i]\n",
    "        if char in ascii_letters:\n",
    "            # Encrypt uppercase characters\n",
    "            if (char.isupper()):\n",
    "                result += chr((ord(char) + k-65) % 26 + 65)\n",
    "    \n",
    "            # Encrypt lowercase characters\n",
    "            else:\n",
    "                result += chr((ord(char) + k - 97) % 26 + 97)\n",
    "        else:\n",
    "            result += char\n",
    "        \n",
    "    return result\n",
    "\n",
    "                      \n",
    "            \n",
    "if __name__ == '__main__':\n",
    "    fptr = open(os.environ['OUTPUT_PATH'], 'w')\n",
    "\n",
    "    n = int(input().strip())\n",
    "\n",
    "    s = input()\n",
    "\n",
    "    k = int(input().strip())\n",
    "\n",
    "    result = caesarCipher(s, k)\n",
    "\n",
    "    fptr.write(result + '\\n')\n",
    "\n",
    "    fptr.close()\n"
   ]
  },
  {
   "cell_type": "markdown",
   "id": "2f022855",
   "metadata": {
    "heading_collapsed": true
   },
   "source": [
    "## mock:  Palindrome"
   ]
  },
  {
   "cell_type": "code",
   "execution_count": null,
   "id": "46c0c182",
   "metadata": {
    "hidden": true
   },
   "outputs": [],
   "source": [
    "def solve(s): \n",
    "    p=0\n",
    "\n",
    "    while p<=len(s)//2:\n",
    "        q = len(s) - p - 1\n",
    "        if s[p] != s[~p]:\n",
    "            if s[p+1:q+1] == s[q:p:-1]:\n",
    "                return p\n",
    "            elif s[p:q] == s[p:q][::-1]:\n",
    "                return q\n",
    "            else:\n",
    "                return -1\n",
    "        p+=1\n",
    "    return -1"
   ]
  },
  {
   "cell_type": "code",
   "execution_count": null,
   "id": "c52c935d",
   "metadata": {
    "hidden": true
   },
   "outputs": [],
   "source": []
  },
  {
   "cell_type": "markdown",
   "id": "8286803b",
   "metadata": {},
   "source": [
    "# Day 4"
   ]
  },
  {
   "cell_type": "markdown",
   "id": "f1d2902e",
   "metadata": {
    "heading_collapsed": true
   },
   "source": [
    "## Grid challenge"
   ]
  },
  {
   "cell_type": "code",
   "execution_count": null,
   "id": "725e29d0",
   "metadata": {
    "hidden": true
   },
   "outputs": [],
   "source": [
    "#!/bin/python3\n",
    "\n",
    "import math\n",
    "import os\n",
    "import random\n",
    "import re\n",
    "import sys\n",
    "\n",
    "#\n",
    "# Complete the 'gridChallenge' function below.\n",
    "#\n",
    "# The function is expected to return a STRING.\n",
    "# The function accepts STRING_ARRAY grid as parameter.\n",
    "#\n",
    "def gridChallenge(grid):\n",
    "    arr=grid\n",
    "    for i in range(n):\n",
    "        arr[i]=sorted(arr[i])\n",
    "    for i in range(len(arr[0])):  #if you use length as n, you will get error.\n",
    "        for j in range(1,len(arr[0])):\n",
    "            if(arr[j-1][i]>arr[j][i]):\n",
    "                return 'NO'\n",
    "    return 'YES'\n",
    "    \n",
    "if __name__ == '__main__':\n",
    "    fptr = open(os.environ['OUTPUT_PATH'], 'w')\n",
    "\n",
    "    t = int(input().strip())\n",
    "\n",
    "    for t_itr in range(t):\n",
    "        n = int(input().strip())\n",
    "\n",
    "        grid = []\n",
    "\n",
    "        for _ in range(n):\n",
    "            grid_item = input()\n",
    "            grid.append(grid_item)\n",
    "\n",
    "        result = gridChallenge(grid)\n",
    "\n",
    "        fptr.write(result + '\\n')\n",
    "\n",
    "    fptr.close()\n"
   ]
  },
  {
   "cell_type": "markdown",
   "id": "b7ef6e8a",
   "metadata": {},
   "source": [
    "## Recursive Digit Sum"
   ]
  },
  {
   "cell_type": "code",
   "execution_count": null,
   "id": "fe6a5239",
   "metadata": {},
   "outputs": [],
   "source": []
  },
  {
   "cell_type": "markdown",
   "id": "cea99008",
   "metadata": {},
   "source": [
    "## New Year chaos"
   ]
  },
  {
   "cell_type": "code",
   "execution_count": null,
   "id": "0d83e520",
   "metadata": {},
   "outputs": [],
   "source": []
  },
  {
   "cell_type": "markdown",
   "id": "7efd21ed",
   "metadata": {},
   "source": [
    "## Mock: "
   ]
  },
  {
   "cell_type": "code",
   "execution_count": null,
   "id": "79a430e5",
   "metadata": {},
   "outputs": [],
   "source": []
  }
 ],
 "metadata": {
  "kernelspec": {
   "display_name": "Python 3 (ipykernel)",
   "language": "python",
   "name": "python3"
  },
  "language_info": {
   "codemirror_mode": {
    "name": "ipython",
    "version": 3
   },
   "file_extension": ".py",
   "mimetype": "text/x-python",
   "name": "python",
   "nbconvert_exporter": "python",
   "pygments_lexer": "ipython3",
   "version": "3.9.7"
  },
  "toc": {
   "base_numbering": 1,
   "nav_menu": {},
   "number_sections": true,
   "sideBar": true,
   "skip_h1_title": false,
   "title_cell": "Table of Contents",
   "title_sidebar": "Contents",
   "toc_cell": false,
   "toc_position": {
    "height": "calc(100% - 180px)",
    "left": "10px",
    "top": "150px",
    "width": "384px"
   },
   "toc_section_display": true,
   "toc_window_display": true
  }
 },
 "nbformat": 4,
 "nbformat_minor": 5
}
